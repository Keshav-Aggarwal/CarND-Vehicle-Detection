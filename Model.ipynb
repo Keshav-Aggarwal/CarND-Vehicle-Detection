{
 "cells": [
  {
   "cell_type": "markdown",
   "metadata": {},
   "source": [
    "#### Import libraries"
   ]
  },
  {
   "cell_type": "code",
   "execution_count": 1,
   "metadata": {},
   "outputs": [
    {
     "name": "stderr",
     "output_type": "stream",
     "text": [
      "Using TensorFlow backend.\n"
     ]
    }
   ],
   "source": [
    "import matplotlib.pyplot as plt\n",
    "import numpy as np\n",
    "import os\n",
    "import keras\n",
    "from keras.layers import Dense, Flatten, Activation, Lambda, Cropping2D, Dropout\n",
    "from keras.models import Sequential\n",
    "from keras.optimizers import Adam\n",
    "from keras.layers import Convolution2D\n",
    "from keras.layers import MaxPooling2D, AveragePooling2D\n",
    "from sklearn.utils import shuffle\n",
    "from sklearn.model_selection import train_test_split\n",
    "import cv2\n",
    "import numpy as np\n",
    "import glob\n",
    "import glob\n",
    "%matplotlib inline"
   ]
  },
  {
   "cell_type": "markdown",
   "metadata": {},
   "source": [
    "### Import Vehicle and Non-Vehicle Images\n",
    "As deep neural networks need more data. We are augmenting data by Flipping Vehicle images vertically while flipping non-Vehicle images Vertically and Horizontally."
   ]
  },
  {
   "cell_type": "code",
   "execution_count": 2,
   "metadata": {
    "collapsed": true,
    "scrolled": true
   },
   "outputs": [],
   "source": [
    "imagesVehiclePath = glob.glob('Vehicles/vehicles/*/*.png')\n",
    "nonImagesVehiclePath = glob.glob('non-Vehicles/non-vehicles/*/*.png')\n",
    "vehicle = []\n",
    "nonVehicle = []\n",
    "for imgPath in imagesVehiclePath:\n",
    "    img = cv2.imread(imgPath)\n",
    "    img = cv2.cvtColor(img, cv2.COLOR_BGR2RGB)\n",
    "    vehicle.append(img)\n",
    "    vehicle.append(cv2.flip(img, 1)) #Flipping Horizontally\n",
    "\n",
    "for imgPath in nonImagesVehiclePath:\n",
    "    img = cv2.imread(imgPath)\n",
    "    img = cv2.cvtColor(img, cv2.COLOR_BGR2RGB)\n",
    "    nonVehicle.append(img)\n",
    "    nonVehicle.append(cv2.flip(img, 1)) #Flipping Horizontally\n",
    "    nonVehicle.append(cv2.flip(img, 0)) #Flipping Vertically"
   ]
  },
  {
   "cell_type": "markdown",
   "metadata": {},
   "source": [
    "### Generating Labels\n",
    "Generating the Labels of Vehicles and Non-Vehicles images by taking vehicles as 1 and non-vehicles as 0."
   ]
  },
  {
   "cell_type": "code",
   "execution_count": 3,
   "metadata": {
    "collapsed": true
   },
   "outputs": [],
   "source": [
    "y_label_class = [1,0]\n",
    "y_label_vehicle = [y_label_class[0]]*len(vehicle)\n",
    "y_label_nonVehicle = [y_label_class[1]]*len(nonVehicle)\n",
    "\n",
    "data = np.vstack([vehicle, nonVehicle])\n",
    "label = np.hstack([y_label_vehicle, y_label_nonVehicle])"
   ]
  },
  {
   "cell_type": "code",
   "execution_count": 4,
   "metadata": {},
   "outputs": [
    {
     "name": "stdout",
     "output_type": "stream",
     "text": [
      "Number of total Vehicle Images 17584\n",
      "Number of total non Vehicle Images 26904\n",
      "Number of total Input Data 44488\n"
     ]
    }
   ],
   "source": [
    "print(\"Number of total Vehicle Images\", len(vehicle))\n",
    "print(\"Number of total non Vehicle Images\", len(nonVehicle))\n",
    "print(\"Number of total Input Data\", len(data))"
   ]
  },
  {
   "cell_type": "markdown",
   "metadata": {},
   "source": [
    "### Using generator"
   ]
  },
  {
   "cell_type": "code",
   "execution_count": 5,
   "metadata": {
    "collapsed": true
   },
   "outputs": [],
   "source": [
    "# GENERATOR WILL LOAD THE IMAGES FROM DATA IN BATCHES RETURN IT TO THE MODEL FOR TRAINING\n",
    "def generator(images_data, measurement_data, batch_size=32):\n",
    "    num_samples = len(images_data)\n",
    "    while 1:\n",
    "        shuffle(images_data, measurement_data)\n",
    "        for offset in range(0, num_samples, batch_size):\n",
    "            batch_images = []\n",
    "            batch_images_path = []\n",
    "            batch_images_path = np.array(images_data[offset: offset + batch_size])\n",
    "            batch_measurements = np.array(measurement_data[offset: offset + batch_size])\n",
    "            \n",
    "            for img in batch_images_path:\n",
    "                batch_images.append(img)\n",
    "            \n",
    "            flipped_img = np.concatenate((batch_images,np.fliplr(batch_images)))\n",
    "            flipped_measurement = np.concatenate((batch_measurements, (batch_measurements*(-1))))\n",
    "            \n",
    "            yield shuffle(flipped_img, flipped_measurement)\n",
    "#SPLITTING DATA IN TRAINING AND TESTING\n",
    "X_train, X_valid,y_train, y_valid = train_test_split(data, label, test_size = 0.2)\n",
    "\n",
    "train_generator = generator(X_train, y_train, batch_size = 64)\n",
    "valid_generator = generator(X_valid, y_valid, batch_size = 32)"
   ]
  },
  {
   "cell_type": "markdown",
   "metadata": {},
   "source": [
    "### DECLARING MODEL\n",
    "Used RELU in the final layer as RELU will give the output between 0 and 1 while sigmoid will return probability. With RELU we are getting better results compared to sigmoid."
   ]
  },
  {
   "cell_type": "code",
   "execution_count": 6,
   "metadata": {},
   "outputs": [
    {
     "name": "stdout",
     "output_type": "stream",
     "text": [
      "Declaring Model\n",
      "Model Declared\n",
      "____________________________________________________________________________________________________\n",
      "Layer (type)                     Output Shape          Param #     Connected to                     \n",
      "====================================================================================================\n",
      "lambda_1 (Lambda)                (None, 64, 64, 3)     0           lambda_input_1[0][0]             \n",
      "____________________________________________________________________________________________________\n",
      "Conv1 (Convolution2D)            (None, 30, 30, 24)    1824        lambda_1[0][0]                   \n",
      "____________________________________________________________________________________________________\n",
      "Conv2 (Convolution2D)            (None, 13, 13, 36)    21636       Conv1[0][0]                      \n",
      "____________________________________________________________________________________________________\n",
      "Conv3 (Convolution2D)            (None, 5, 5, 48)      43248       Conv2[0][0]                      \n",
      "____________________________________________________________________________________________________\n",
      "Flat1 (Flatten)                  (None, 1200)          0           Conv3[0][0]                      \n",
      "____________________________________________________________________________________________________\n",
      "Drop2 (Dropout)                  (None, 1200)          0           Flat1[0][0]                      \n",
      "____________________________________________________________________________________________________\n",
      "Dense1 (Dense)                   (None, 100)           120100      Drop2[0][0]                      \n",
      "____________________________________________________________________________________________________\n",
      "Dense2 (Dense)                   (None, 50)            5050        Dense1[0][0]                     \n",
      "____________________________________________________________________________________________________\n",
      "Drop3 (Dropout)                  (None, 50)            0           Dense2[0][0]                     \n",
      "____________________________________________________________________________________________________\n",
      "Dense3 (Dense)                   (None, 10)            510         Drop3[0][0]                      \n",
      "____________________________________________________________________________________________________\n",
      "Output_Layer (Dense)             (None, 1)             11          Dense3[0][0]                     \n",
      "====================================================================================================\n",
      "Total params: 192,379\n",
      "Trainable params: 192,379\n",
      "Non-trainable params: 0\n",
      "____________________________________________________________________________________________________\n"
     ]
    }
   ],
   "source": [
    "#DECLARE THE MODEL\n",
    "print(\"Declaring Model\")\n",
    "model = Sequential()\n",
    "model.add(Lambda(lambda x: (x / 127.5)-1, input_shape=(64,64,3)))\n",
    "\n",
    "model.add(Convolution2D(24,5,5, subsample = (2,2), name='Conv1', activation='relu'))\n",
    "model.add(Convolution2D(36,5,5, subsample = (2,2), name='Conv2', activation='relu'))\n",
    "model.add(Convolution2D(48,5,5, subsample = (2,2), name='Conv3', activation='relu'))\n",
    "\n",
    "model.add(Flatten(name='Flat1'))\n",
    "model.add(Dropout(0.2, name='Drop2'))\n",
    "model.add(Dense(100, name='Dense1', activation='relu'))          \n",
    "model.add(Dense(50, name='Dense2', activation='relu'))\n",
    "model.add(Dropout(0.2, name='Drop3'))\n",
    "model.add(Dense(10, name='Dense3', activation='relu'))\n",
    "model.add(Dense(1, activation='relu', name='Output_Layer'))\n",
    "\n",
    "print(\"Model Declared\")\n",
    "model.summary()"
   ]
  },
  {
   "cell_type": "markdown",
   "metadata": {},
   "source": [
    "Compiling Model"
   ]
  },
  {
   "cell_type": "code",
   "execution_count": 7,
   "metadata": {},
   "outputs": [
    {
     "name": "stdout",
     "output_type": "stream",
     "text": [
      "Epoch 1/6\n",
      "35584/35590 [============================>.] - ETA: 0s - loss: 0.3243"
     ]
    },
    {
     "name": "stderr",
     "output_type": "stream",
     "text": [
      "/home/carnd/anaconda3/envs/carnd-term1/lib/python3.5/site-packages/keras/engine/training.py:1569: UserWarning: Epoch comprised more than `samples_per_epoch` samples, which might affect learning results. Set `samples_per_epoch` correctly to avoid this warning.\n",
      "  warnings.warn('Epoch comprised more than '\n"
     ]
    },
    {
     "name": "stdout",
     "output_type": "stream",
     "text": [
      "35712/35590 [==============================] - 13s - loss: 0.3243 - val_loss: 0.2608\n",
      "Epoch 2/6\n",
      "35596/35590 [==============================] - 10s - loss: 0.2525 - val_loss: 0.2368\n",
      "Epoch 3/6\n",
      "35712/35590 [==============================] - 10s - loss: 0.2395 - val_loss: 0.2334\n",
      "Epoch 4/6\n",
      "35596/35590 [==============================] - 10s - loss: 0.2288 - val_loss: 0.2263\n",
      "Epoch 5/6\n",
      "35712/35590 [==============================] - 10s - loss: 0.2254 - val_loss: 0.2237\n",
      "Epoch 6/6\n",
      "35596/35590 [==============================] - 10s - loss: 0.2201 - val_loss: 0.2268\n"
     ]
    },
    {
     "data": {
      "text/plain": [
       "<keras.callbacks.History at 0x7f9f68bc71d0>"
      ]
     },
     "execution_count": 7,
     "metadata": {},
     "output_type": "execute_result"
    }
   ],
   "source": [
    "model.compile(loss='mse', optimizer= Adam(lr = 0.0001))\n",
    "model.fit_generator(train_generator, samples_per_epoch=len(X_train),validation_data= valid_generator, nb_val_samples=len(X_valid), nb_epoch=6)"
   ]
  },
  {
   "cell_type": "markdown",
   "metadata": {},
   "source": [
    "Save the Model for predicting Vehicles."
   ]
  },
  {
   "cell_type": "code",
   "execution_count": 8,
   "metadata": {
    "collapsed": true
   },
   "outputs": [],
   "source": [
    "model.save('model_Relu.h5')"
   ]
  },
  {
   "cell_type": "code",
   "execution_count": 9,
   "metadata": {},
   "outputs": [],
   "source": [
    "# visualize model layers output\n",
    "from keras import backend as K\n",
    "layerOutput = K.function([model.layers[0].input, K.learning_phase()],\n",
    "                                  [model.layers[2].output])\n",
    "idx = 5000 \n",
    "testLabel = label[idx]\n",
    "\n",
    "image = data[idx]\n",
    "layerOutputSample = layerOutput([image.reshape(1,image.shape[0],image.shape[1],image.shape[2]), 1])[0]\n",
    "layerOutputSample = layerOutputSample.reshape(layerOutputSample.shape[1],layerOutputSample.shape[2],layerOutputSample.shape[3])"
   ]
  },
  {
   "cell_type": "code",
   "execution_count": 10,
   "metadata": {
    "scrolled": true
   },
   "outputs": [
    {
     "name": "stdout",
     "output_type": "stream",
     "text": [
      "Feature Matrix of CNN\n"
     ]
    },
    {
     "data": {
      "image/png": "[encoded data removed]",
      "text/plain": [
       "<matplotlib.figure.Figure at 0x7f9f680b9668>"
      ]
     },
     "metadata": {},
     "output_type": "display_data"
    }
   ],
   "source": [
    "print(\"Feature Matrix of CNN\")\n",
    "figure = plt.figure(figsize=(16,16))\n",
    "factors = [10,4]\n",
    "for ind in range(layerOutputSample.shape[2]):\n",
    "    img = figure.add_subplot(factors[0],factors[1],ind + 1)\n",
    "    #plt.subplot(4, 4, ind + 1)\n",
    "    val = layerOutputSample[:,:,ind]\n",
    "    plt.axis(\"off\")\n",
    "    plt.imshow(val, cmap='gray',interpolation='nearest')"
   ]
  },
  {
   "cell_type": "code",
   "execution_count": null,
   "metadata": {
    "collapsed": true
   },
   "outputs": [],
   "source": []
  }
 ],
 "metadata": {
  "kernelspec": {
   "display_name": "Python 3",
   "language": "python",
   "name": "python3"
  },
  "language_info": {
   "codemirror_mode": {
    "name": "ipython",
    "version": 3
   },
   "file_extension": ".py",
   "mimetype": "text/x-python",
   "name": "python",
   "nbconvert_exporter": "python",
   "pygments_lexer": "ipython3",
   "version": "3.5.2"
  },
  "widgets": {
   "state": {},
   "version": "1.1.2"
  }
 },
 "nbformat": 4,
 "nbformat_minor": 2
}
